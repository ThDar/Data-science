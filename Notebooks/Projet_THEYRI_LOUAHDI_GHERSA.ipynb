{
 "cells": [
  {
   "cell_type": "code",
   "execution_count": 1,
   "metadata": {
    "colab": {
     "base_uri": "https://localhost:8080/",
     "height": 35
    },
    "colab_type": "code",
    "executionInfo": {
     "elapsed": 1640,
     "status": "ok",
     "timestamp": 1556312189390,
     "user": {
      "displayName": "nassim guergouri",
      "photoUrl": "",
      "userId": "12250735214499494477"
     },
     "user_tz": -120
    },
    "id": "rY7I5rMXzVCN",
    "outputId": "9321e65b-503e-4e8a-9f20-1d9adcb2e1b8",
    "scrolled": true
   },
   "outputs": [
    {
     "name": "stderr",
     "output_type": "stream",
     "text": [
      "Using TensorFlow backend.\n"
     ]
    }
   ],
   "source": [
    "from keras.applications.inception_v3 import InceptionV3\n",
    "from keras.applications.inception_v3 import preprocess_input, decode_predictions\n",
    "\n",
    "from keras.preprocessing.image import load_img\n",
    "from keras.preprocessing.image import img_to_array, array_to_img\n",
    "\n",
    "from keras import Model\n",
    "from keras.layers import Dense, Flatten\n",
    "from keras.optimizers import SGD\n",
    "from keras.utils import to_categorical\n",
    "import pandas as pd\n",
    "\n",
    "from random import randint"
   ]
  },
  {
   "cell_type": "markdown",
   "metadata": {},
   "source": [
    "#### Nous avons utilisé le modèle inceptionV3 au lieu de VGG16 afin d'utilisé un autre modèle autre que celui utilisé en classe, selon nos recherches ce modèles admet un nombre de couches plus grand que celui de VGG16 et la taille d'input par défaut est égale à 299x299 contrairement au VGG16 qui est 224x224.**"
   ]
  },
  {
   "cell_type": "code",
   "execution_count": 2,
   "metadata": {
    "colab": {
     "base_uri": "https://localhost:8080/",
     "height": 129
    },
    "colab_type": "code",
    "executionInfo": {
     "elapsed": 19399,
     "status": "ok",
     "timestamp": 1556312210515,
     "user": {
      "displayName": "nassim guergouri",
      "photoUrl": "",
      "userId": "12250735214499494477"
     },
     "user_tz": -120
    },
    "id": "oVfPQ6APzVCq",
    "outputId": "65eb42cf-7cd2-4139-e69a-435e585b5816"
   },
   "outputs": [
    {
     "name": "stdout",
     "output_type": "stream",
     "text": [
      "WARNING:tensorflow:From /Users/dtheyri/Desktop/Cours vague 2/DAR/myenv/lib/python3.6/site-packages/tensorflow/python/framework/op_def_library.py:263: colocate_with (from tensorflow.python.framework.ops) is deprecated and will be removed in a future version.\n",
      "Instructions for updating:\n",
      "Colocations handled automatically by placer.\n"
     ]
    }
   ],
   "source": [
    "incep3 = InceptionV3()"
   ]
  },
  {
   "cell_type": "code",
   "execution_count": null,
   "metadata": {
    "colab": {},
    "colab_type": "code",
    "id": "boyS5bnizVC6"
   },
   "outputs": [],
   "source": [
    "def predict_image_using_inceptionv3(img_path, vgg):\n",
    "    \"\"\"\n",
    "    Open image, convert it to an array, and run predictions\n",
    "    using a trained model.\n",
    "    \"\"\"\n",
    "    # load an image from file\n",
    "    image = load_img(img_path, target_size=(299, 299))\n",
    "    # convert the image pixels to a numpy array\n",
    "    image = img_to_array(image)\n",
    "    # reshape data for the model\n",
    "    image = image.reshape(\n",
    "        (1, image.shape[0], image.shape[1], image.shape[2]))\n",
    "    image = preprocess_input(image)\n",
    "    y_pred = vgg.predict(image)\n",
    "    labels = decode_predictions(y_pred)[0]\n",
    "    for label in labels:\n",
    "        print(label)\n",
    "        "
   ]
  },
  {
   "cell_type": "markdown",
   "metadata": {
    "colab_type": "text",
    "id": "g17wnTehzVDl"
   },
   "source": [
    "### Creating a dataset"
   ]
  },
  {
   "cell_type": "markdown",
   "metadata": {},
   "source": [
    "#### Ici on a rajouté un test \"label != '.DS_Store'\" parceque il y a un dossier caché à chaque fois il est créé automatiquement et on a pas réussi à le supprimer "
   ]
  },
  {
   "cell_type": "code",
   "execution_count": null,
   "metadata": {
    "colab": {},
    "colab_type": "code",
    "id": "Rgt0X6-7zVDo"
   },
   "outputs": [],
   "source": [
    "import os\n",
    "import glob\n",
    "import numpy as np\n",
    "\n",
    "def create_dataset(folder):\n",
    "    all_images = []\n",
    "    image_arrays = []\n",
    "    all_labels = []\n",
    "    filenames = []\n",
    "    labels = []\n",
    "    for class_id, label in enumerate(os.listdir(folder)):\n",
    "        if (label != '.DS_Store'):\n",
    "            print(class_id-1, label)\n",
    "            labels.append(label)\n",
    "            for filename in glob.glob(folder + '/{}/*'.format(label)):\n",
    "                filenames.append(filename)\n",
    "                im = load_img(filename, target_size=(299, 299))\n",
    "                all_images.append(im)\n",
    "                preprocessed = preprocess_input(img_to_array(im))\n",
    "                image_arrays.append(preprocessed)\n",
    "                all_labels.append(class_id-1)\n",
    "    X = np.array(image_arrays)\n",
    "    Y = to_categorical(np.array(all_labels))\n",
    "    return X, Y, filenames, all_images, labels"
   ]
  },
  {
   "cell_type": "markdown",
   "metadata": {},
   "source": [
    "#### Quelques affiches pour notre dataset"
   ]
  },
  {
   "cell_type": "code",
   "execution_count": null,
   "metadata": {
    "colab": {
     "base_uri": "https://localhost:8080/",
     "height": 146
    },
    "colab_type": "code",
    "executionInfo": {
     "elapsed": 93979,
     "status": "ok",
     "timestamp": 1556312826602,
     "user": {
      "displayName": "nassim guergouri",
      "photoUrl": "",
      "userId": "12250735214499494477"
     },
     "user_tz": -120
    },
    "id": "RJkSpgBXzVEu",
    "outputId": "56eec10b-9182-461f-d4de-bc176b252f80"
   },
   "outputs": [],
   "source": [
    "X, Y, filenames, all_images, labels = create_dataset('../Datas/img/Fashion_train')"
   ]
  },
  {
   "cell_type": "code",
   "execution_count": null,
   "metadata": {
    "colab": {
     "base_uri": "https://localhost:8080/",
     "height": 35
    },
    "colab_type": "code",
    "executionInfo": {
     "elapsed": 654,
     "status": "ok",
     "timestamp": 1556312833026,
     "user": {
      "displayName": "nassim guergouri",
      "photoUrl": "",
      "userId": "12250735214499494477"
     },
     "user_tz": -120
    },
    "id": "lkB_ZfDYzVFW",
    "outputId": "64557fb1-8e87-409b-83ed-609e3fd93919"
   },
   "outputs": [],
   "source": [
    "X.shape, Y.shape, len(filenames), len(all_images)"
   ]
  },
  {
   "cell_type": "code",
   "execution_count": null,
   "metadata": {
    "colab": {
     "base_uri": "https://localhost:8080/",
     "height": 146
    },
    "colab_type": "code",
    "executionInfo": {
     "elapsed": 480,
     "status": "ok",
     "timestamp": 1556312836533,
     "user": {
      "displayName": "nassim guergouri",
      "photoUrl": "",
      "userId": "12250735214499494477"
     },
     "user_tz": -120
    },
    "id": "7D5O9j_EzVFt",
    "outputId": "49249b4f-2be5-4ec4-f9cf-a4e06980c7e1"
   },
   "outputs": [],
   "source": [
    "Y"
   ]
  },
  {
   "cell_type": "code",
   "execution_count": null,
   "metadata": {
    "colab": {
     "base_uri": "https://localhost:8080/",
     "height": 164
    },
    "colab_type": "code",
    "executionInfo": {
     "elapsed": 478,
     "status": "ok",
     "timestamp": 1556314172727,
     "user": {
      "displayName": "nassim guergouri",
      "photoUrl": "",
      "userId": "12250735214499494477"
     },
     "user_tz": -120
    },
    "id": "9rWQiE-lzVGG",
    "outputId": "4576aec2-14f0-4727-8678-68cb17cb1d8e"
   },
   "outputs": [],
   "source": [
    "filenames[:8]"
   ]
  },
  {
   "cell_type": "markdown",
   "metadata": {},
   "source": [
    "**Prédiction sur une image choisie aléatoirement depuis notre Dataset avec le modèle CNN inceptionV3**"
   ]
  },
  {
   "cell_type": "code",
   "execution_count": null,
   "metadata": {
    "colab": {
     "base_uri": "https://localhost:8080/",
     "height": 408
    },
    "colab_type": "code",
    "executionInfo": {
     "elapsed": 1887,
     "status": "ok",
     "timestamp": 1556314183025,
     "user": {
      "displayName": "nassim guergouri",
      "photoUrl": "",
      "userId": "12250735214499494477"
     },
     "user_tz": -120
    },
    "id": "OvK9e-vOzVGT",
    "outputId": "303082c6-c553-4c0f-bdb7-5f8874c323e2"
   },
   "outputs": [],
   "source": [
    "img_id = randint(0,len(X))\n",
    "predict_image_using_inceptionv3(filenames[img_id], incep3)\n",
    "all_images[img_id]"
   ]
  },
  {
   "cell_type": "markdown",
   "metadata": {
    "colab_type": "text",
    "id": "l2aorkuhzVGl"
   },
   "source": [
    "### Transfer learning"
   ]
  },
  {
   "cell_type": "code",
   "execution_count": null,
   "metadata": {
    "colab": {
     "base_uri": "https://localhost:8080/",
     "height": 74
    },
    "colab_type": "code",
    "executionInfo": {
     "elapsed": 22658,
     "status": "ok",
     "timestamp": 1556312909587,
     "user": {
      "displayName": "nassim guergouri",
      "photoUrl": "",
      "userId": "12250735214499494477"
     },
     "user_tz": -120
    },
    "id": "fG7TujyvzVGo",
    "outputId": "85185f2e-3acb-454d-cd6d-5135dec44da9"
   },
   "outputs": [],
   "source": [
    "# Charger InceptionV3 pré-entraîné sur ImageNet\n",
    "# mais sans les couches fully-connected\n",
    "inceptionv3_cut = InceptionV3(weights=\"imagenet\", include_top=False,\n",
    "                input_shape=(299, 299, 3))\n",
    "x = inceptionv3_cut.output\n",
    "# transform matrix into 1-d vector\n",
    "x = Flatten()(x)\n",
    "\n",
    "# Layer  \n",
    "x = Dense(40, activation='relu')(x) \n",
    "\n",
    "# Nombre de classe\n",
    "nb_classes = 7\n",
    "x = Dense(nb_classes, activation='softmax')(x)  \n",
    "\n"
   ]
  },
  {
   "cell_type": "code",
   "execution_count": null,
   "metadata": {
    "colab": {},
    "colab_type": "code",
    "id": "hxNkVhTzzVG2"
   },
   "outputs": [],
   "source": [
    "custom_model = Model(inputs=inceptionv3_cut.input, outputs=x)"
   ]
  },
  {
   "cell_type": "code",
   "execution_count": null,
   "metadata": {
    "colab": {},
    "colab_type": "code",
    "id": "sNzGbpt3zVHC"
   },
   "outputs": [],
   "source": [
    "for layer in custom_model.layers[:-2]:\n",
    "    layer.trainable = False"
   ]
  },
  {
   "cell_type": "code",
   "execution_count": null,
   "metadata": {
    "colab": {
     "base_uri": "https://localhost:8080/",
     "height": 12323
    },
    "colab_type": "code",
    "executionInfo": {
     "elapsed": 11833,
     "status": "ok",
     "timestamp": 1556312909654,
     "user": {
      "displayName": "nassim guergouri",
      "photoUrl": "",
      "userId": "12250735214499494477"
     },
     "user_tz": -120
    },
    "id": "_u-b6OG_zVHa",
    "outputId": "ae78966c-ea6a-4acb-b4a6-3449ade9e69b"
   },
   "outputs": [],
   "source": [
    "custom_model.summary()"
   ]
  },
  {
   "cell_type": "code",
   "execution_count": null,
   "metadata": {
    "colab": {},
    "colab_type": "code",
    "id": "fUctvUvkzVH7"
   },
   "outputs": [],
   "source": [
    "# Compiler le modèle \n",
    "custom_model.compile(\n",
    "    loss=\"categorical_crossentropy\",\n",
    "    optimizer=SGD(lr=0.0001, momentum=0.9),\n",
    "    metrics=[\"accuracy\"])"
   ]
  },
  {
   "cell_type": "code",
   "execution_count": null,
   "metadata": {
    "colab": {
     "base_uri": "https://localhost:8080/",
     "height": 478
    },
    "colab_type": "code",
    "executionInfo": {
     "elapsed": 982453,
     "status": "ok",
     "timestamp": 1556313886239,
     "user": {
      "displayName": "nassim guergouri",
      "photoUrl": "",
      "userId": "12250735214499494477"
     },
     "user_tz": -120
    },
    "id": "2s7mMhWYzVIM",
    "outputId": "2dfdf227-7b9d-4422-e454-754477e85a56"
   },
   "outputs": [],
   "source": [
    "# Entraîner le modèle\n",
    "custom_model.fit(X, Y,\n",
    "                 epochs=10, batch_size=5)"
   ]
  },
  {
   "cell_type": "markdown",
   "metadata": {
    "colab_type": "text",
    "id": "wBnZSR7DAWNS"
   },
   "source": [
    "#### Après avoir tester plusieurs epoch de 3 à 10, les résultats s'améliorent avec un nombre de perte minimale et un score élevé"
   ]
  },
  {
   "cell_type": "markdown",
   "metadata": {
    "colab_type": "text",
    "id": "T2biE8qgzVIn"
   },
   "source": [
    "#### Utilisons notre modèle entrainé pour faire des prédictions sur les images de test"
   ]
  },
  {
   "cell_type": "code",
   "execution_count": null,
   "metadata": {
    "colab": {},
    "colab_type": "code",
    "id": "emDB1vGVzVIq"
   },
   "outputs": [],
   "source": [
    "# télécharger les images de test\n",
    "def load_test_set(folder):\n",
    "    all_images = []\n",
    "    image_arrays = []\n",
    "    filenames = []\n",
    "    for filename in glob.glob(folder + '/*'):\n",
    "        filenames.append(filename)\n",
    "        im = load_img(filename, target_size=(299, 299))\n",
    "        all_images.append(im)\n",
    "        preprocessed = preprocess_input(img_to_array(im))\n",
    "        image_arrays.append(preprocessed)\n",
    "    X = np.array(image_arrays)\n",
    "    return X, filenames, all_images"
   ]
  },
  {
   "cell_type": "code",
   "execution_count": null,
   "metadata": {
    "colab": {},
    "colab_type": "code",
    "id": "rS3G1YJuzVI4"
   },
   "outputs": [],
   "source": [
    "X_test, test_filenames, test_images = load_test_set(\n",
    "    '../Datas/img/Fashion_Test')"
   ]
  },
  {
   "cell_type": "code",
   "execution_count": null,
   "metadata": {
    "colab": {
     "base_uri": "https://localhost:8080/",
     "height": 35
    },
    "colab_type": "code",
    "executionInfo": {
     "elapsed": 443,
     "status": "ok",
     "timestamp": 1556313980257,
     "user": {
      "displayName": "nassim guergouri",
      "photoUrl": "",
      "userId": "12250735214499494477"
     },
     "user_tz": -120
    },
    "id": "Oy55hbySzVJK",
    "outputId": "3c254911-a503-4705-abaa-698cb9f5d5b8"
   },
   "outputs": [],
   "source": [
    "X_test.shape"
   ]
  },
  {
   "cell_type": "markdown",
   "metadata": {},
   "source": [
    "#### Nous avons utilisé randint pour choisir aléatoirement les images pour le test"
   ]
  },
  {
   "cell_type": "code",
   "execution_count": null,
   "metadata": {
    "colab": {
     "base_uri": "https://localhost:8080/",
     "height": 316
    },
    "colab_type": "code",
    "executionInfo": {
     "elapsed": 1132,
     "status": "ok",
     "timestamp": 1556314218322,
     "user": {
      "displayName": "nassim guergouri",
      "photoUrl": "",
      "userId": "12250735214499494477"
     },
     "user_tz": -120
    },
    "id": "1EpLxQr4zVJn",
    "outputId": "bfd1798f-0b5a-4fc4-d797-3258381a0428"
   },
   "outputs": [],
   "source": [
    "test_id = randint(0,len(X_test))\n",
    "test_images[test_id]"
   ]
  },
  {
   "cell_type": "code",
   "execution_count": null,
   "metadata": {
    "colab": {},
    "colab_type": "code",
    "id": "V6Y8SVoJzVJ6"
   },
   "outputs": [],
   "source": [
    "img_reshaped = X_test[test_id].reshape(1, *X_test[test_id].shape)\n",
    "pred = custom_model.predict(img_reshaped)"
   ]
  },
  {
   "cell_type": "code",
   "execution_count": null,
   "metadata": {
    "colab": {
     "base_uri": "https://localhost:8080/",
     "height": 81
    },
    "colab_type": "code",
    "executionInfo": {
     "elapsed": 508,
     "status": "ok",
     "timestamp": 1556314001149,
     "user": {
      "displayName": "nassim guergouri",
      "photoUrl": "",
      "userId": "12250735214499494477"
     },
     "user_tz": -120
    },
    "id": "4Gd685Nb0zeM",
    "outputId": "caab8fe1-cec4-46f7-8e00-caa7a2c50a28"
   },
   "outputs": [],
   "source": [
    "pd.DataFrame(pred*100, columns=labels)"
   ]
  },
  {
   "cell_type": "code",
   "execution_count": null,
   "metadata": {
    "colab": {
     "base_uri": "https://localhost:8080/",
     "height": 316
    },
    "colab_type": "code",
    "executionInfo": {
     "elapsed": 638,
     "status": "ok",
     "timestamp": 1556314007902,
     "user": {
      "displayName": "nassim guergouri",
      "photoUrl": "",
      "userId": "12250735214499494477"
     },
     "user_tz": -120
    },
    "id": "YXvtP0Ea1cBf",
    "outputId": "89b3ad61-1dfd-4870-ad0d-05fa7a8ffad4"
   },
   "outputs": [],
   "source": [
    "test_id1 = randint(0,len(X_test))\n",
    "test_images[test_id1]"
   ]
  },
  {
   "cell_type": "code",
   "execution_count": null,
   "metadata": {
    "colab": {},
    "colab_type": "code",
    "id": "lk_B86hB1cCT"
   },
   "outputs": [],
   "source": [
    "img_reshaped1 = X_test[test_id1].reshape(1, *X_test[test_id1].shape)\n",
    "pred1 = custom_model.predict(img_reshaped1)"
   ]
  },
  {
   "cell_type": "code",
   "execution_count": null,
   "metadata": {
    "colab": {
     "base_uri": "https://localhost:8080/",
     "height": 81
    },
    "colab_type": "code",
    "executionInfo": {
     "elapsed": 433,
     "status": "ok",
     "timestamp": 1556314025445,
     "user": {
      "displayName": "nassim guergouri",
      "photoUrl": "",
      "userId": "12250735214499494477"
     },
     "user_tz": -120
    },
    "id": "0SGOaHQc1cCi",
    "outputId": "11158410-62b3-4a8d-8206-6268a9239912"
   },
   "outputs": [],
   "source": [
    "pd.DataFrame(pred1*100, columns=labels)"
   ]
  },
  {
   "cell_type": "code",
   "execution_count": null,
   "metadata": {
    "colab": {
     "base_uri": "https://localhost:8080/",
     "height": 316
    },
    "colab_type": "code",
    "executionInfo": {
     "elapsed": 778,
     "status": "ok",
     "timestamp": 1556314059287,
     "user": {
      "displayName": "nassim guergouri",
      "photoUrl": "",
      "userId": "12250735214499494477"
     },
     "user_tz": -120
    },
    "id": "lIYm73hA2ku-",
    "outputId": "266ad694-1ff4-4112-9269-97cb0944d87c"
   },
   "outputs": [],
   "source": [
    "test_id2 = randint(0,len(X_test))\n",
    "test_images[test_id2]"
   ]
  },
  {
   "cell_type": "code",
   "execution_count": null,
   "metadata": {
    "colab": {},
    "colab_type": "code",
    "id": "4-x2PLD02kv7"
   },
   "outputs": [],
   "source": [
    "img_reshaped2 = X_test[test_id2].reshape(1, *X_test[test_id2].shape)\n",
    "pred2 = custom_model.predict(img_reshaped2)"
   ]
  },
  {
   "cell_type": "code",
   "execution_count": null,
   "metadata": {
    "colab": {
     "base_uri": "https://localhost:8080/",
     "height": 81
    },
    "colab_type": "code",
    "executionInfo": {
     "elapsed": 552,
     "status": "ok",
     "timestamp": 1556314071686,
     "user": {
      "displayName": "nassim guergouri",
      "photoUrl": "",
      "userId": "12250735214499494477"
     },
     "user_tz": -120
    },
    "id": "nJQ3CmOI2kwO",
    "outputId": "2ea390e1-91f7-4fce-c106-ddf809e27ca7"
   },
   "outputs": [],
   "source": [
    "# Prediction de catégorie\n",
    "pd.DataFrame(pred2*100, columns=labels)"
   ]
  },
  {
   "cell_type": "markdown",
   "metadata": {
    "colab_type": "text",
    "id": "3aKb7QWOBS5i"
   },
   "source": [
    "#### **** Après avoir tester plusieurs images de différentes catégories, notre modèle costum a réussi à prédire toutes les images avec une poucentage supèrieur à 92%  ***\n"
   ]
  },
  {
   "cell_type": "code",
   "execution_count": null,
   "metadata": {
    "colab": {},
    "colab_type": "code",
    "id": "3BNFtHokzVLn"
   },
   "outputs": [],
   "source": []
  },
  {
   "cell_type": "code",
   "execution_count": null,
   "metadata": {
    "colab": {},
    "colab_type": "code",
    "id": "9bThDsPAZg8x"
   },
   "outputs": [],
   "source": []
  }
 ],
 "metadata": {
  "accelerator": "TPU",
  "colab": {
   "collapsed_sections": [],
   "name": "Projet_Transfer1.ipynb",
   "provenance": [],
   "version": "0.3.2"
  },
  "kernelspec": {
   "display_name": "Python 3",
   "language": "python",
   "name": "python3"
  },
  "language_info": {
   "codemirror_mode": {
    "name": "ipython",
    "version": 3
   },
   "file_extension": ".py",
   "mimetype": "text/x-python",
   "name": "python",
   "nbconvert_exporter": "python",
   "pygments_lexer": "ipython3",
   "version": "3.6.8"
  }
 },
 "nbformat": 4,
 "nbformat_minor": 1
}
